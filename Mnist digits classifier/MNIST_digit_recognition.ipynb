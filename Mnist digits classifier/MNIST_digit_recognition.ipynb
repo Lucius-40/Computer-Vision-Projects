{
 "cells": [
  {
   "cell_type": "markdown",
   "id": "2c3f0f9f",
   "metadata": {},
   "source": [
    "I will do a handwritten digit classification as a starting poihnt "
   ]
  },
  {
   "cell_type": "code",
   "execution_count": 5,
   "id": "b785aa37",
   "metadata": {},
   "outputs": [],
   "source": [
    "import torch\n",
    "import torch.nn as nn\n",
    "import torch.optim as optim\n",
    "import torchvision\n",
    "import torchvision.transforms as transforms\n",
    "from torch.utils.data import DataLoader\n",
    "import matplotlib.pyplot as plt\n",
    "import numpy as np\n"
   ]
  },
  {
   "cell_type": "code",
   "execution_count": 2,
   "id": "7023da74",
   "metadata": {},
   "outputs": [],
   "source": [
    "transform = transforms.Compose([\n",
    "    transforms.ToTensor(), # this converts the image to tensor\n",
    "    transforms.Normalize((0.5,),(0.5,)) #mean 0.5 and std dev 0.5\n",
    "])"
   ]
  },
  {
   "cell_type": "markdown",
   "id": "d504179e",
   "metadata": {},
   "source": [
    "Loading the dataset :"
   ]
  },
  {
   "cell_type": "code",
   "execution_count": 3,
   "id": "a63b2051",
   "metadata": {},
   "outputs": [
    {
     "name": "stderr",
     "output_type": "stream",
     "text": [
      "100%|██████████| 9.91M/9.91M [00:07<00:00, 1.30MB/s]\n",
      "100%|██████████| 28.9k/28.9k [00:00<00:00, 93.4kB/s]\n",
      "100%|██████████| 1.65M/1.65M [00:02<00:00, 555kB/s]\n",
      "100%|██████████| 4.54k/4.54k [00:00<00:00, 5.73MB/s]\n"
     ]
    }
   ],
   "source": [
    "\n",
    "train_dataset = torchvision.datasets.MNIST(root='.', train=True,\n",
    "                                           download=True, transform=transform)\n",
    "test_dataset = torchvision.datasets.MNIST(root='.', train=False,\n",
    "                                          download=True, transform=transform)"
   ]
  },
  {
   "cell_type": "markdown",
   "id": "50a9470c",
   "metadata": {},
   "source": [
    "Loading the datatset : \n",
    "\n",
    "Batching : loads multiple samples at once \n",
    "\n",
    "shuffles : shuffles the data to avoid order based pattern memorization "
   ]
  },
  {
   "cell_type": "code",
   "execution_count": 4,
   "id": "c404ccdf",
   "metadata": {},
   "outputs": [],
   "source": [
    "train_loader = DataLoader(train_dataset, batch_size=100, shuffle=True)\n",
    "test_loader = DataLoader(test_dataset, batch_size=100, shuffle=True)"
   ]
  },
  {
   "cell_type": "markdown",
   "id": "96927eb4",
   "metadata": {},
   "source": [
    "Too see some samples :"
   ]
  },
  {
   "cell_type": "code",
   "execution_count": 6,
   "id": "848f77de",
   "metadata": {},
   "outputs": [],
   "source": [
    "def show_image(im):\n",
    "    im = im/2 + 0.5 \n",
    "    npim = im.numpy()\n",
    "    plt.imshow(np.transpose(npim, (1, 2, 0)), cmap='grey') ## from C H W of tensors to H C W FOR matplotlib\n",
    "    plt.axis('off')\n",
    "    plt.show()"
   ]
  },
  {
   "cell_type": "code",
   "execution_count": 10,
   "id": "815d0b0d",
   "metadata": {},
   "outputs": [
    {
     "name": "stdout",
     "output_type": "stream",
     "text": [
      "torch.Size([100, 1, 28, 28])\n",
      "torch.Size([100])\n"
     ]
    },
    {
     "data": {
      "image/png": "[encoded data removed]",
      "text/plain": [
       "<Figure size 640x480 with 1 Axes>"
      ]
     },
     "metadata": {},
     "output_type": "display_data"
    },
    {
     "name": "stdout",
     "output_type": "stream",
     "text": [
      "Labels: 8 6 9 9 1 7 3 8 3 6\n"
     ]
    }
   ],
   "source": [
    "\n",
    "# Get some random training images\n",
    "dataiter = iter(train_loader) # itearates over the data \n",
    "images, labels = next(dataiter) # returns a batch and labels\n",
    "\n",
    "print(images.shape)\n",
    "print(labels.shape)\n",
    "\n",
    "# Show images\n",
    "show_image(torchvision.utils.make_grid(images[:10], nrow=5)) # takes first 8\n",
    "print('Labels:', ' '.join(f'{labels[j].item()}' for j in range(10))) # takes first labels\n"
   ]
  },
  {
   "cell_type": "markdown",
   "id": "38799420",
   "metadata": {},
   "source": [
    "Lets define the model now :"
   ]
  },
  {
   "cell_type": "markdown",
   "id": "aac64edf",
   "metadata": {},
   "source": [
    "Description :\n",
    "\n",
    "convolution layer will take (1, 28, 28) as input , evaluate every 3x3 patch and return an output of (32, 26 , 26)\n",
    "\n",
    "pool layer will take feature map of each 2x2 grid and take the strongest activation : \n",
    "input(32,26,26) and output (32,13,13)\n",
    "\n",
    "convolution layer 2 will generate 64 features from the 32, making more complex features \n",
    "input(32,13,13) and output (64, 11, 11)\n",
    "\n",
    "Will pool again to reduce to (64, 5 , 5)\n",
    "\n",
    "\n",
    "Now need to flatten to feed to a dense layer( linear), that will get a 1600 feats for each image, and generate 64 abstract feats that will then be fed to the output layer to \n",
    "classify among the 10 labels"
   ]
  },
  {
   "cell_type": "code",
   "execution_count": 14,
   "id": "5eb4b91e",
   "metadata": {},
   "outputs": [],
   "source": [
    "class CNN(nn.Module):\n",
    "    def __init__(self):\n",
    "        super(CNN,self).__init__()\n",
    "        self.conv1 = nn.Conv2d(1,32, kernel_size=3) # 1 channel in input , will output 32 feats \n",
    "        self.pool = nn.MaxPool2d(2,2) # will consider 2x2 patches\n",
    "        self.conv2 = nn.Conv2d(32, 64, kernel_size=3)## will take 32 feats and generate 64\n",
    "        self.dense1 = nn.Linear(64*25, 64) #will take 64*25 feats and output 64\n",
    "        self.output = nn.Linear(64,10) ## will take the 64 abstract features and output probability of each label (softmax ish ?) \n",
    "\n",
    "    def forward(self, X):\n",
    "        X = self.pool(torch.relu(self.conv1(X))) # conv1 + relu + pool : conv generates 32 feats for \n",
    "        X = self.pool(torch.relu(self.conv2(X)))\n",
    "        X = X.view(-1 , 64*25) # flattens the tensor to have 1600 features for each image \n",
    "        X = torch.relu(self.dense1(X)) # relu in the sense layer\n",
    "        X = self.output(X)\n",
    "        return X \n",
    "        \n",
    "\n",
    "model = CNN()"
   ]
  },
  {
   "cell_type": "code",
   "execution_count": 15,
   "id": "69450d11",
   "metadata": {},
   "outputs": [],
   "source": [
    "criterion = nn.CrossEntropyLoss()  # for multi-class classification\n",
    "optimizer = optim.Adam(model.parameters(), lr=0.001)"
   ]
  },
  {
   "cell_type": "markdown",
   "id": "a89d0e00",
   "metadata": {},
   "source": [
    "Each parameter has a .grad attribute . When output and label is passed, loss func calculated the grad in .backward() and stores grads to .grads of each param "
   ]
  },
  {
   "cell_type": "markdown",
   "id": "772b7f23",
   "metadata": {},
   "source": [
    "The training :"
   ]
  },
  {
   "cell_type": "code",
   "execution_count": 18,
   "id": "5ca8f121",
   "metadata": {},
   "outputs": [
    {
     "name": "stdout",
     "output_type": "stream",
     "text": [
      "Epoch 1, Loss: 0.0042\n",
      "Epoch 2, Loss: 0.0026\n",
      "Epoch 3, Loss: 0.0043\n",
      "Epoch 4, Loss: 0.0015\n",
      "Epoch 5, Loss: 0.0011\n",
      "Epoch 6, Loss: 0.0038\n",
      "Epoch 7, Loss: 0.0054\n",
      "Epoch 8, Loss: 0.0036\n",
      "Epoch 9, Loss: 0.0008\n",
      "Epoch 10, Loss: 0.0002\n",
      "Epoch 11, Loss: 0.0000\n",
      "Epoch 12, Loss: 0.0012\n",
      "Epoch 13, Loss: 0.0083\n",
      "Epoch 14, Loss: 0.0033\n",
      "Epoch 15, Loss: 0.0015\n",
      "Epoch 16, Loss: 0.0018\n",
      "Epoch 17, Loss: 0.0030\n",
      "Epoch 18, Loss: 0.0013\n",
      "Epoch 19, Loss: 0.0026\n",
      "Epoch 20, Loss: 0.0022\n",
      "Epoch 21, Loss: 0.0021\n",
      "Epoch 22, Loss: 0.0024\n",
      "Epoch 23, Loss: 0.0016\n",
      "Epoch 24, Loss: 0.0011\n",
      "Epoch 25, Loss: 0.0033\n"
     ]
    }
   ],
   "source": [
    "for epoch in range(25):\n",
    "    model.train()\n",
    "    running_loss = 0.0  # sum of losses for this epoch\n",
    "    \n",
    "    for images, labels in train_loader:\n",
    "        optimizer.zero_grad()\n",
    "        outputs = model(images)\n",
    "        loss = criterion(outputs, labels)\n",
    "        loss.backward()\n",
    "        optimizer.step()\n",
    "        \n",
    "        running_loss += loss.item()  # add batch loss to total\n",
    "    \n",
    "    epoch_loss = running_loss / len(train_loader)  # average loss\n",
    "    print(f\"Epoch {epoch+1}, Loss: {epoch_loss:.4f}\")\n",
    "\n"
   ]
  },
  {
   "cell_type": "markdown",
   "id": "f4b0fde3",
   "metadata": {},
   "source": [
    "Loss functions  knows the weights to calculate gradients for because pythorch has an inbuilt computation graph and loss just back tracks from that"
   ]
  },
  {
   "cell_type": "code",
   "execution_count": 19,
   "id": "ad9c9493",
   "metadata": {},
   "outputs": [
    {
     "name": "stdout",
     "output_type": "stream",
     "text": [
      "Test Accuracy: 99.05%\n"
     ]
    }
   ],
   "source": [
    "model.eval() # evaluation mode , no changes to the model \n",
    "total = 0 \n",
    "correct = 0 \n",
    "wrong = 0\n",
    "with torch.no_grad():\n",
    "    for images , labels in test_loader:\n",
    "        outputs = model(images)\n",
    "        _, predicted = torch.max(outputs,1) # in axis 1 (columns), we look for the highest value in tensor, stores index of the max\n",
    "        total += labels.size(0)\n",
    "        correct += (labels == predicted).sum().item()\n",
    "\n",
    "print(f\"Test Accuracy: {100 * correct / total:.2f}%\")\n",
    "\n",
    "\n",
    "\n"
   ]
  },
  {
   "cell_type": "code",
   "execution_count": null,
   "id": "08423240",
   "metadata": {},
   "outputs": [],
   "source": []
  }
 ],
 "metadata": {
  "kernelspec": {
   "display_name": "Python 3",
   "language": "python",
   "name": "python3"
  },
  "language_info": {
   "codemirror_mode": {
    "name": "ipython",
    "version": 3
   },
   "file_extension": ".py",
   "mimetype": "text/x-python",
   "name": "python",
   "nbconvert_exporter": "python",
   "pygments_lexer": "ipython3",
   "version": "3.13.1"
  }
 },
 "nbformat": 4,
 "nbformat_minor": 5
}
