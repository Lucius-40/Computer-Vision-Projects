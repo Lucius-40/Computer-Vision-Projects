{
  "nbformat": 4,
  "nbformat_minor": 0,
  "metadata": {
    "colab": {
      "provenance": [],
      "gpuType": "T4",
      "authorship_tag": "ABX9TyN+HFQwvgIdJNTYP7ALoYQB",
      "include_colab_link": true
    },
    "kernelspec": {
      "name": "python3",
      "display_name": "Python 3"
    },
    "language_info": {
      "name": "python"
    },
    "accelerator": "GPU"
  },
  "cells": [
    {
      "cell_type": "markdown",
      "metadata": {
        "id": "view-in-github",
        "colab_type": "text"
      },
      "source": [
        "<a href=\"https://colab.research.google.com/github/Lucius-40/Computer-Vision-Projects/blob/main/CIFAR-10/Object_Recognition.ipynb\" target=\"_parent\"><img src=\"https://colab.research.google.com/assets/colab-badge.svg\" alt=\"Open In Colab\"/></a>"
      ]
    },
    {
      "cell_type": "markdown",
      "source": [
        "Will try to classify objects from the cifar-10 dataset"
      ],
      "metadata": {
        "id": "esI37VEgp0rT"
      }
    },
    {
      "cell_type": "code",
      "execution_count": 65,
      "metadata": {
        "colab": {
          "base_uri": "https://localhost:8080/"
        },
        "id": "gDLhZMMnptG8",
        "outputId": "fdbd2c7a-0021-4fc9-8297-b58d6765d3e7"
      },
      "outputs": [
        {
          "output_type": "execute_result",
          "data": {
            "text/plain": [
              "True"
            ]
          },
          "metadata": {},
          "execution_count": 65
        }
      ],
      "source": [
        "import torch\n",
        "import torchvision\n",
        "import torchvision.transforms as transforms\n",
        "import torch\n",
        "import torch.nn as nn\n",
        "import torch.optim as optim\n",
        "import torchvision\n",
        "import torchvision.transforms as transforms\n",
        "from torch.utils.data import DataLoader\n",
        "import matplotlib.pyplot as plt\n",
        "import numpy as np\n",
        "import torch.optim as optim\n",
        "\n",
        "# Check GPU availability\n",
        "torch.cuda.is_available()\n"
      ]
    },
    {
      "cell_type": "code",
      "source": [
        "device = torch.device(\"cuda\" if torch.cuda.is_available() else \"cpu\")\n",
        "print(\"Using device:\", device)\n",
        "print(\"GPU name:\", torch.cuda.get_device_name(0) if torch.cuda.is_available() else \"No GPU\")\n"
      ],
      "metadata": {
        "colab": {
          "base_uri": "https://localhost:8080/"
        },
        "id": "C5iIA-ZDSX1K",
        "outputId": "c2169d1d-3445-4d89-d5e1-f1bd85945faf"
      },
      "execution_count": 66,
      "outputs": [
        {
          "output_type": "stream",
          "name": "stdout",
          "text": [
            "Using device: cuda\n",
            "GPU name: Tesla T4\n"
          ]
        }
      ]
    },
    {
      "cell_type": "markdown",
      "source": [
        "Define the transformation :"
      ],
      "metadata": {
        "id": "ObtGWxm122bb"
      }
    },
    {
      "cell_type": "code",
      "source": [
        "transform = transforms.Compose([\n",
        "    transforms.ToTensor(),\n",
        "    transforms.Normalize((0.5,0.5,0.5),(0.5,0.5,0.5))\n",
        "])"
      ],
      "metadata": {
        "id": "pCLth7d-25Ij"
      },
      "execution_count": 67,
      "outputs": []
    },
    {
      "cell_type": "markdown",
      "source": [
        "Loading the dataset :"
      ],
      "metadata": {
        "id": "I7jQnNBP3jb7"
      }
    },
    {
      "cell_type": "code",
      "source": [
        "train_set = torchvision.datasets.CIFAR10(root='.', train=True,download=True, transform=transform)\n",
        "test_set = torchvision.datasets.CIFAR10(root='.', train=False , download=True, transform=transform)\n",
        "\n",
        "train_loader = DataLoader(train_set, batch_size=50, shuffle=True)\n",
        "test_loader = DataLoader(test_set, batch_size=50, shuffle=False)\n",
        "\n",
        "im, lab = train_set[0]\n",
        "\n",
        "print(im.shape)\n",
        "print(len(train_set))"
      ],
      "metadata": {
        "id": "GqGbJjgM3lNS",
        "colab": {
          "base_uri": "https://localhost:8080/"
        },
        "outputId": "7a88f981-5b01-42cc-f8f7-fee86d0631ab"
      },
      "execution_count": 68,
      "outputs": [
        {
          "output_type": "stream",
          "name": "stdout",
          "text": [
            "torch.Size([3, 32, 32])\n",
            "50000\n"
          ]
        }
      ]
    },
    {
      "cell_type": "markdown",
      "source": [
        "Looking at random samples of teh dataset :"
      ],
      "metadata": {
        "id": "4IhrQljt5Hym"
      }
    },
    {
      "cell_type": "code",
      "source": [
        "\n",
        "# Unnormalize\n",
        "def unnormalize(img):\n",
        "    img = img / 2 + 0.5\n",
        "    return img.numpy()\n",
        "\n",
        "# Get 16 random images\n",
        "dataiter = iter(train_loader)\n",
        "images, labels = next(dataiter)\n",
        "images = images[:16]\n",
        "\n",
        "fig, axes = plt.subplots(4, 4, figsize=(6, 6))\n",
        "for i, ax in enumerate(axes.flat):\n",
        "    img = unnormalize(images[i])\n",
        "    img = np.transpose(img, (1, 2, 0))\n",
        "    ax.imshow(img)\n",
        "    ax.set_title(train_set.classes[labels[i]], fontsize=8)\n",
        "    ax.axis('off')\n",
        "\n",
        "plt.tight_layout()\n",
        "plt.show()\n",
        "\n",
        "\n"
      ],
      "metadata": {
        "id": "i7oa1TFY4-3_",
        "colab": {
          "base_uri": "https://localhost:8080/",
          "height": 607
        },
        "outputId": "6ffe9429-6261-4fa7-f7cc-c2efb1b66798"
      },
      "execution_count": 69,
      "outputs": [
        {
          "output_type": "display_data",
          "data": {
            "text/plain": [
              "<Figure size 600x600 with 16 Axes>"
            ],
            "image/png": "[encoded data removed]"
          },
          "metadata": {}
        }
      ]
    },
    {
      "cell_type": "markdown",
      "source": [
        "Simple CNN initially for a baseline level of accuracy :"
      ],
      "metadata": {
        "id": "dScy7iRPJOyx"
      }
    },
    {
      "cell_type": "code",
      "source": [
        "class CNN_simple(nn.Module):\n",
        "    def __init__(self):\n",
        "        super(CNN_simple,self).__init__()\n",
        "        self.conv1 = nn.Conv2d(3, 64, kernel_size=3)\n",
        "        self.pool = nn.MaxPool2d(2,2)\n",
        "        self.conv2 = nn.Conv2d(64, 128, kernel_size=4)\n",
        "        self.conv3 = nn.Conv2d(128, 256, kernel_size=4)\n",
        "        self.dense1 = nn.Linear(3 * 3* 256, 250)\n",
        "        self.output = nn.Linear(250,10)\n",
        "\n",
        "    def forward(self, X):\n",
        "        X = self.pool(torch.relu(self.conv1(X)))\n",
        "        X = self.pool(torch.relu(self.conv2(X)))\n",
        "        X = torch.relu(self.conv3(X))\n",
        "        X = X.view(X.size(0),-1 )\n",
        "        X = torch.relu(self.dense1(X))\n",
        "        X = self.output(X)\n",
        "        return X\n",
        "\n",
        "\n",
        "model1 = CNN_simple().to(device)"
      ],
      "metadata": {
        "id": "5k48XfIr7gwI"
      },
      "execution_count": 70,
      "outputs": []
    },
    {
      "cell_type": "markdown",
      "source": [
        "Optimizers and loss function"
      ],
      "metadata": {
        "id": "BCn3GDJIROg3"
      }
    },
    {
      "cell_type": "code",
      "source": [
        "optimizer = optim.SGD(\n",
        "    model1.parameters(),\n",
        "    lr=0.01,          # start here, adjust later\n",
        "    momentum=0.9,     # helps accelerate in relevant directions\n",
        "    weight_decay=1e-3 # L2 regularization\n",
        ")\n",
        "\n",
        "criterion = nn.CrossEntropyLoss()\n"
      ],
      "metadata": {
        "id": "YpVhwYB5Qd_1"
      },
      "execution_count": 71,
      "outputs": []
    },
    {
      "cell_type": "markdown",
      "source": [
        "Training loop :"
      ],
      "metadata": {
        "id": "luFaiRRwRajT"
      }
    },
    {
      "cell_type": "code",
      "source": [
        "for epoch in range(10):\n",
        "    model1.train()\n",
        "    running_loss = 0.0\n",
        "    correct = 0\n",
        "    total = 0\n",
        "\n",
        "    for images, labels in train_loader:\n",
        "        images = images.to(device)\n",
        "        labels = labels.to(device)\n",
        "        optimizer.zero_grad()\n",
        "        outputs = model1(images)\n",
        "        loss = criterion(outputs, labels)\n",
        "        loss.backward()\n",
        "        optimizer.step()\n",
        "\n",
        "        running_loss += loss.item()\n",
        "        _, predicted = torch.max(outputs, 1)\n",
        "        total += labels.size(0)\n",
        "        correct += (predicted == labels).sum().item()\n",
        "\n",
        "    epoch_loss = running_loss / len(train_loader)\n",
        "    epoch_acc = 100 * correct / total\n",
        "    print(f\"Epoch {epoch+1}, Loss: {epoch_loss:.4f}, Acc: {epoch_acc:.2f}%\")\n"
      ],
      "metadata": {
        "colab": {
          "base_uri": "https://localhost:8080/"
        },
        "id": "tDEu5DyuRLLR",
        "outputId": "1e6a0560-8505-49cf-a528-81cafe7cee1f"
      },
      "execution_count": 72,
      "outputs": [
        {
          "output_type": "stream",
          "name": "stdout",
          "text": [
            "Epoch 1, Loss: 1.5895, Acc: 41.57%\n",
            "Epoch 2, Loss: 1.1136, Acc: 60.11%\n",
            "Epoch 3, Loss: 0.8835, Acc: 69.03%\n",
            "Epoch 4, Loss: 0.7346, Acc: 74.18%\n",
            "Epoch 5, Loss: 0.6280, Acc: 77.95%\n",
            "Epoch 6, Loss: 0.5412, Acc: 81.00%\n",
            "Epoch 7, Loss: 0.4614, Acc: 83.85%\n",
            "Epoch 8, Loss: 0.3948, Acc: 86.21%\n",
            "Epoch 9, Loss: 0.3339, Acc: 88.46%\n",
            "Epoch 10, Loss: 0.2755, Acc: 90.45%\n"
          ]
        }
      ]
    },
    {
      "cell_type": "markdown",
      "source": [
        "Evaluating the basic model :"
      ],
      "metadata": {
        "id": "GlxSdxkRUONA"
      }
    },
    {
      "cell_type": "code",
      "source": [
        "model1.eval() # evaluation mode , no changes to the model\n",
        "total = 0\n",
        "correct = 0\n",
        "wrong = 0\n",
        "correct2 = 0\n",
        "total2 = 0\n",
        "with torch.no_grad():\n",
        "    for images , labels in test_loader:\n",
        "        images = images.to(device)\n",
        "        labels = labels.to(device)\n",
        "        outputs = model1(images)\n",
        "        _, predicted = torch.max(outputs,1) # in axis 1 (columns), we look for the highest value in tensor, stores index of the max\n",
        "        total += labels.size(0)\n",
        "        correct += (labels == predicted).sum().item()\n",
        "    for images , labels in train_loader:\n",
        "        images = images.to(device)\n",
        "        labels = labels.to(device)\n",
        "        outputs = model1(images)\n",
        "        _, predicted = torch.max(outputs,1) # in axis 1 (columns), we look for the highest value in tensor, stores index of the max\n",
        "        total2 += labels.size(0)\n",
        "        correct2 += (labels == predicted).sum().item()\n",
        "\n",
        "print(f\"Test Accuracy: {100 * correct / total:.2f}%\")\n",
        "print(f\"Train Accuracy: {100 * correct2 / total2:.2f}%\")\n",
        "print(\"Total train : \",total2 )\n",
        "print(\"Total test :\", total)"
      ],
      "metadata": {
        "colab": {
          "base_uri": "https://localhost:8080/"
        },
        "id": "mJiyYOGBR3Dn",
        "outputId": "b89e13fd-7d58-4d6e-a060-5ceda957e2fc"
      },
      "execution_count": 73,
      "outputs": [
        {
          "output_type": "stream",
          "name": "stdout",
          "text": [
            "Test Accuracy: 76.70%\n",
            "Train Accuracy: 94.63%\n",
            "Total train :  50000\n",
            "Total test : 10000\n"
          ]
        }
      ]
    },
    {
      "cell_type": "markdown",
      "source": [
        "So, for our basic model , we got a lot of overfitting , it does really well on the training set , but not onthe test set"
      ],
      "metadata": {
        "id": "gEO0aNZBU3Zm"
      }
    },
    {
      "cell_type": "markdown",
      "source": [
        "**Proposed improvements for improvement of accuracy  :**\n",
        "\n",
        "1.Introducing batch normalization to the simple network"
      ],
      "metadata": {
        "id": "Opfxwe9jWBy0"
      }
    },
    {
      "cell_type": "code",
      "source": [
        "class CNN_with_bn(nn.Module):\n",
        "    def __init__(self):\n",
        "        super(CNN_with_bn,self).__init__()\n",
        "        self.conv1 = nn.Conv2d(3, 64, kernel_size=3)\n",
        "        self.batchnorm1 = nn.BatchNorm2d(64)\n",
        "        self.pool = nn.MaxPool2d(2,2)\n",
        "        self.conv2 = nn.Conv2d(64, 128, kernel_size=4)\n",
        "        self.batchnorm2 = nn.BatchNorm2d(128)\n",
        "        self.conv3 = nn.Conv2d(128, 256, kernel_size=4)\n",
        "        self.batchnorm3 = nn.BatchNorm2d(256)\n",
        "        self.dense1 = nn.Linear(3 * 3* 256, 250)\n",
        "        self.batchnorm4 = nn.BatchNorm1d(250)\n",
        "        self.output = nn.Linear(250,10)\n",
        "\n",
        "    def forward(self, X):\n",
        "        X = self.pool(torch.relu(self.batchnorm1(self.conv1(X))))\n",
        "        X = self.pool(torch.relu(self.batchnorm2(self.conv2(X))))\n",
        "        X = torch.relu(self.batchnorm3(self.conv3(X)))\n",
        "        X = X.view(X.size(0),-1 )\n",
        "        X = torch.relu(self.batchnorm4(self.dense1(X)))\n",
        "        X = self.output(X)\n",
        "        return X\n",
        "\n",
        "model2 = CNN_with_bn().to(device)"
      ],
      "metadata": {
        "id": "CKB8BO7dUYZi"
      },
      "execution_count": 82,
      "outputs": []
    },
    {
      "cell_type": "code",
      "source": [
        "optimizer_bn = optim.SGD(\n",
        "    model2.parameters(),\n",
        "    lr=0.01,          # start here, adjust later\n",
        "    momentum=0.9,     # helps accelerate in relevant directions\n",
        "    weight_decay=1e-3 # L2 regularization\n",
        ")\n",
        "\n",
        "criterion_bn = nn.CrossEntropyLoss()"
      ],
      "metadata": {
        "id": "AXPBsta-bofC"
      },
      "execution_count": 83,
      "outputs": []
    },
    {
      "cell_type": "code",
      "source": [
        "for epoch in range(15):\n",
        "    model2.train()\n",
        "    running_loss = 0.0\n",
        "    correct = 0\n",
        "    total = 0\n",
        "\n",
        "    for images, labels in train_loader:\n",
        "        images = images.to(device)\n",
        "        labels = labels.to(device)\n",
        "        optimizer_bn.zero_grad()\n",
        "        outputs = model2(images)\n",
        "        loss = criterion_bn(outputs, labels)\n",
        "        loss.backward()\n",
        "        optimizer_bn.step()\n",
        "\n",
        "        running_loss += loss.item()\n",
        "        _, predicted = torch.max(outputs, 1)\n",
        "        total += labels.size(0)\n",
        "        correct += (predicted == labels).sum().item()\n",
        "\n",
        "    epoch_loss = running_loss / len(train_loader)\n",
        "    epoch_acc = 100 * correct / total\n",
        "    print(f\"Epoch {epoch+1}, Loss: {epoch_loss:.4f}, Acc: {epoch_acc:.2f}%\")\n",
        "\n"
      ],
      "metadata": {
        "colab": {
          "base_uri": "https://localhost:8080/"
        },
        "id": "rTTe2II4bj1g",
        "outputId": "e19b6a56-3b8b-46c5-dfc2-9a0eb1f33ba7"
      },
      "execution_count": null,
      "outputs": [
        {
          "output_type": "stream",
          "name": "stdout",
          "text": [
            "Epoch 1, Loss: 1.1759, Acc: 58.03%\n"
          ]
        }
      ]
    },
    {
      "cell_type": "code",
      "source": [
        "model2.eval() # evaluation mode , no changes to the model\n",
        "total = 0\n",
        "correct = 0\n",
        "wrong = 0\n",
        "correct2 = 0\n",
        "total2 = 0\n",
        "with torch.no_grad():\n",
        "    for images , labels in test_loader:\n",
        "        images = images.to(device)\n",
        "        labels = labels.to(device)\n",
        "        outputs = model2(images)\n",
        "        _, predicted = torch.max(outputs,1) # in axis 1 (columns), we look for the highest value in tensor, stores index of the max\n",
        "        total += labels.size(0)\n",
        "        correct += (labels == predicted).sum().item()\n",
        "    for images , labels in train_loader:\n",
        "        images = images.to(device)\n",
        "        labels = labels.to(device)\n",
        "        outputs = model2(images)\n",
        "        _, predicted = torch.max(outputs,1) # in axis 1 (columns), we look for the highest value in tensor, stores index of the max\n",
        "        total2 += labels.size(0)\n",
        "        correct2 += (labels == predicted).sum().item()\n",
        "\n",
        "print(f\"Test Accuracy: {100 * correct / total:.2f}%\")\n",
        "print(f\"Train Accuracy: {100 * correct2 / total2:.2f}%\")\n",
        "print(\"Total train : \",total2 )\n",
        "print(\"Total test :\", total)"
      ],
      "metadata": {
        "id": "vIgZK4LpcLgG"
      },
      "execution_count": null,
      "outputs": []
    },
    {
      "cell_type": "markdown",
      "source": [
        "*So we got the test accuracy to increase by 2 % . It is always a goo d idea to add more training data is there is a high variance. So we will do just that *"
      ],
      "metadata": {
        "id": "fmbg7iJndxDW"
      }
    },
    {
      "cell_type": "markdown",
      "source": [
        "Improvememts :\n",
        "\n",
        "1. Batch normalization(done)\n",
        "\n",
        "2. Data Augmentation\n"
      ],
      "metadata": {
        "id": "yTaR-MleeLqW"
      }
    },
    {
      "cell_type": "code",
      "source": [],
      "metadata": {
        "id": "twzUGiYpeBqY"
      },
      "execution_count": 77,
      "outputs": []
    }
  ]
}