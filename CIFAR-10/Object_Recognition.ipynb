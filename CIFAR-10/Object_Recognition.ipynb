{
  "nbformat": 4,
  "nbformat_minor": 0,
  "metadata": {
    "colab": {
      "provenance": [],
      "gpuType": "T4",
      "authorship_tag": "ABX9TyM/K8ItnzX8UdPaq5NRlMwL",
      "include_colab_link": true
    },
    "kernelspec": {
      "name": "python3",
      "display_name": "Python 3"
    },
    "language_info": {
      "name": "python"
    },
    "accelerator": "GPU"
  },
  "cells": [
    {
      "cell_type": "markdown",
      "metadata": {
        "id": "view-in-github",
        "colab_type": "text"
      },
      "source": [
        "<a href=\"https://colab.research.google.com/github/Lucius-40/Computer-Vision-Projects/blob/main/CIFAR-10/Object_Recognition.ipynb\" target=\"_parent\"><img src=\"https://colab.research.google.com/assets/colab-badge.svg\" alt=\"Open In Colab\"/></a>"
      ]
    },
    {
      "cell_type": "markdown",
      "source": [
        "Will try to classify objects from the cifar-10 dataset"
      ],
      "metadata": {
        "id": "esI37VEgp0rT"
      }
    },
    {
      "cell_type": "code",
      "execution_count": 1,
      "metadata": {
        "colab": {
          "base_uri": "https://localhost:8080/"
        },
        "id": "gDLhZMMnptG8",
        "outputId": "1c394c9e-0cfa-403a-892e-9e5eadd5500f"
      },
      "outputs": [
        {
          "output_type": "execute_result",
          "data": {
            "text/plain": [
              "True"
            ]
          },
          "metadata": {},
          "execution_count": 1
        }
      ],
      "source": [
        "import torch\n",
        "import torchvision\n",
        "import torchvision.transforms as transforms\n",
        "import torch\n",
        "import torch.nn as nn\n",
        "import torch.optim as optim\n",
        "import torchvision\n",
        "import torchvision.transforms as transforms\n",
        "from torch.utils.data import DataLoader\n",
        "import matplotlib.pyplot as plt\n",
        "import numpy as np\n",
        "import torch.optim as optim\n",
        "\n",
        "# Check GPU availability\n",
        "torch.cuda.is_available()\n"
      ]
    },
    {
      "cell_type": "code",
      "source": [
        "device = torch.device(\"cuda\" if torch.cuda.is_available() else \"cpu\")\n",
        "print(\"Using device:\", device)\n",
        "print(\"GPU name:\", torch.cuda.get_device_name(0) if torch.cuda.is_available() else \"No GPU\")\n"
      ],
      "metadata": {
        "colab": {
          "base_uri": "https://localhost:8080/"
        },
        "id": "C5iIA-ZDSX1K",
        "outputId": "ebd7f2ef-e68c-4a63-cf3d-7b753838cfa7"
      },
      "execution_count": 2,
      "outputs": [
        {
          "output_type": "stream",
          "name": "stdout",
          "text": [
            "Using device: cuda\n",
            "GPU name: Tesla T4\n"
          ]
        }
      ]
    },
    {
      "cell_type": "markdown",
      "source": [
        "Define the transformation :"
      ],
      "metadata": {
        "id": "ObtGWxm122bb"
      }
    },
    {
      "cell_type": "code",
      "source": [
        "transform = transforms.Compose([\n",
        "    transforms.ToTensor(),\n",
        "    transforms.Normalize((0.5,0.5,0.5),(0.5,0.5,0.5))\n",
        "])"
      ],
      "metadata": {
        "id": "pCLth7d-25Ij"
      },
      "execution_count": 3,
      "outputs": []
    },
    {
      "cell_type": "markdown",
      "source": [
        "Loading the dataset :"
      ],
      "metadata": {
        "id": "I7jQnNBP3jb7"
      }
    },
    {
      "cell_type": "code",
      "source": [
        "train_set = torchvision.datasets.CIFAR10(root='.', train=True,download=True, transform=transform)\n",
        "test_set = torchvision.datasets.CIFAR10(root='.', train=False , download=True, transform=transform)\n",
        "\n",
        "train_loader = DataLoader(train_set, batch_size=50, shuffle=True)\n",
        "test_loader = DataLoader(test_set, batch_size=50, shuffle=False)\n",
        "\n",
        "im, lab = train_set[0]\n",
        "\n",
        "print(im.shape)\n",
        "print(len(train_set))"
      ],
      "metadata": {
        "id": "GqGbJjgM3lNS",
        "colab": {
          "base_uri": "https://localhost:8080/"
        },
        "outputId": "72b1f502-a2f0-44cf-d060-a616f2f8e714"
      },
      "execution_count": 4,
      "outputs": [
        {
          "output_type": "stream",
          "name": "stderr",
          "text": [
            "100%|██████████| 170M/170M [00:13<00:00, 12.5MB/s]\n"
          ]
        },
        {
          "output_type": "stream",
          "name": "stdout",
          "text": [
            "torch.Size([3, 32, 32])\n",
            "50000\n"
          ]
        }
      ]
    },
    {
      "cell_type": "markdown",
      "source": [
        "Looking at random samples of teh dataset :"
      ],
      "metadata": {
        "id": "4IhrQljt5Hym"
      }
    },
    {
      "cell_type": "code",
      "source": [
        "\n",
        "# Unnormalize\n",
        "def unnormalize(img):\n",
        "    img = img / 2 + 0.5\n",
        "    return img.numpy()\n",
        "\n",
        "# Get 16 random images\n",
        "dataiter = iter(train_loader)\n",
        "images, labels = next(dataiter)\n",
        "images = images[:16]\n",
        "\n",
        "fig, axes = plt.subplots(4, 4, figsize=(6, 6))\n",
        "for i, ax in enumerate(axes.flat):\n",
        "    img = unnormalize(images[i])\n",
        "    img = np.transpose(img, (1, 2, 0))\n",
        "    ax.imshow(img)\n",
        "    ax.set_title(train_set.classes[labels[i]], fontsize=8)\n",
        "    ax.axis('off')\n",
        "\n",
        "plt.tight_layout()\n",
        "plt.show()\n",
        "\n",
        "\n"
      ],
      "metadata": {
        "id": "i7oa1TFY4-3_",
        "colab": {
          "base_uri": "https://localhost:8080/",
          "height": 607
        },
        "outputId": "35662a86-4956-4393-c4a1-e32ac3ac4eef"
      },
      "execution_count": 5,
      "outputs": [
        {
          "output_type": "display_data",
          "data": {
            "text/plain": [
              "<Figure size 600x600 with 16 Axes>"
            ],
            "image/png": "[encoded data removed]"
          },
          "metadata": {}
        }
      ]
    },
    {
      "cell_type": "markdown",
      "source": [
        "Simple CNN initially for a baseline level of accuracy :"
      ],
      "metadata": {
        "id": "dScy7iRPJOyx"
      }
    },
    {
      "cell_type": "code",
      "source": [
        "class CNN_simple(nn.Module):\n",
        "    def __init__(self):\n",
        "        super(CNN_simple,self).__init__()\n",
        "        self.conv1 = nn.Conv2d(3, 64, kernel_size=3)\n",
        "        self.pool = nn.MaxPool2d(2,2)\n",
        "        self.conv2 = nn.Conv2d(64, 128, kernel_size=4)\n",
        "        self.conv3 = nn.Conv2d(128, 256, kernel_size=4)\n",
        "        self.dense1 = nn.Linear(3 * 3* 256, 250)\n",
        "        self.output = nn.Linear(250,10)\n",
        "\n",
        "    def forward(self, X):\n",
        "        X = self.pool(torch.relu(self.conv1(X)))\n",
        "        X = self.pool(torch.relu(self.conv2(X)))\n",
        "        X = torch.relu(self.conv3(X))\n",
        "        X = X.view(X.size(0),-1 )\n",
        "        X = torch.relu(self.dense1(X))\n",
        "        X = self.output(X)\n",
        "        return X\n",
        "\n",
        "\n",
        "model1 = CNN_simple().to(device)"
      ],
      "metadata": {
        "id": "5k48XfIr7gwI"
      },
      "execution_count": 6,
      "outputs": []
    },
    {
      "cell_type": "markdown",
      "source": [
        "Optimizers and loss function"
      ],
      "metadata": {
        "id": "BCn3GDJIROg3"
      }
    },
    {
      "cell_type": "code",
      "source": [
        "optimizer = optim.SGD(\n",
        "    model1.parameters(),\n",
        "    lr=0.01,          # start here, adjust later\n",
        "    momentum=0.9,     # helps accelerate in relevant directions\n",
        "    weight_decay=1e-3 # L2 regularization\n",
        ")\n",
        "\n",
        "criterion = nn.CrossEntropyLoss()\n"
      ],
      "metadata": {
        "id": "YpVhwYB5Qd_1"
      },
      "execution_count": 7,
      "outputs": []
    },
    {
      "cell_type": "markdown",
      "source": [
        "Training loop :"
      ],
      "metadata": {
        "id": "luFaiRRwRajT"
      }
    },
    {
      "cell_type": "code",
      "source": [
        "for epoch in range(10):\n",
        "    model1.train()\n",
        "    running_loss = 0.0\n",
        "    correct = 0\n",
        "    total = 0\n",
        "\n",
        "    for images, labels in train_loader:\n",
        "        images = images.to(device)\n",
        "        labels = labels.to(device)\n",
        "        optimizer.zero_grad()\n",
        "        outputs = model1(images)\n",
        "        loss = criterion(outputs, labels)\n",
        "        loss.backward()\n",
        "        optimizer.step()\n",
        "\n",
        "        running_loss += loss.item()\n",
        "        _, predicted = torch.max(outputs, 1)\n",
        "        total += labels.size(0)\n",
        "        correct += (predicted == labels).sum().item()\n",
        "\n",
        "    epoch_loss = running_loss / len(train_loader)\n",
        "    epoch_acc = 100 * correct / total\n",
        "    print(f\"Epoch {epoch+1}, Loss: {epoch_loss:.4f}, Acc: {epoch_acc:.2f}%\")\n"
      ],
      "metadata": {
        "colab": {
          "base_uri": "https://localhost:8080/"
        },
        "id": "tDEu5DyuRLLR",
        "outputId": "61ce4af6-36d7-409d-a935-06c0236b8600"
      },
      "execution_count": 8,
      "outputs": [
        {
          "output_type": "stream",
          "name": "stdout",
          "text": [
            "Epoch 1, Loss: 1.5840, Acc: 41.86%\n",
            "Epoch 2, Loss: 1.0865, Acc: 61.34%\n",
            "Epoch 3, Loss: 0.8617, Acc: 69.82%\n",
            "Epoch 4, Loss: 0.7323, Acc: 74.39%\n",
            "Epoch 5, Loss: 0.6134, Acc: 78.60%\n",
            "Epoch 6, Loss: 0.5284, Acc: 81.55%\n",
            "Epoch 7, Loss: 0.4433, Acc: 84.41%\n",
            "Epoch 8, Loss: 0.3822, Acc: 86.82%\n",
            "Epoch 9, Loss: 0.3139, Acc: 88.99%\n",
            "Epoch 10, Loss: 0.2709, Acc: 90.51%\n"
          ]
        }
      ]
    },
    {
      "cell_type": "markdown",
      "source": [
        "Evaluating the basic model :"
      ],
      "metadata": {
        "id": "GlxSdxkRUONA"
      }
    },
    {
      "cell_type": "code",
      "source": [
        "model1.eval() # evaluation mode , no changes to the model\n",
        "total = 0\n",
        "correct = 0\n",
        "wrong = 0\n",
        "correct2 = 0\n",
        "total2 = 0\n",
        "with torch.no_grad():\n",
        "    for images , labels in test_loader:\n",
        "        images = images.to(device)\n",
        "        labels = labels.to(device)\n",
        "        outputs = model1(images)\n",
        "        _, predicted = torch.max(outputs,1) # in axis 1 (columns), we look for the highest value in tensor, stores index of the max\n",
        "        total += labels.size(0)\n",
        "        correct += (labels == predicted).sum().item()\n",
        "    for images , labels in train_loader:\n",
        "        images = images.to(device)\n",
        "        labels = labels.to(device)\n",
        "        outputs = model1(images)\n",
        "        _, predicted = torch.max(outputs,1) # in axis 1 (columns), we look for the highest value in tensor, stores index of the max\n",
        "        total2 += labels.size(0)\n",
        "        correct2 += (labels == predicted).sum().item()\n",
        "\n",
        "print(f\"Test Accuracy: {100 * correct / total:.2f}%\")\n",
        "print(f\"Train Accuracy: {100 * correct2 / total2:.2f}%\")\n",
        "print(\"Total train : \",total2 )\n",
        "print(\"Total test :\", total)"
      ],
      "metadata": {
        "id": "mJiyYOGBR3Dn",
        "outputId": "984ee362-935c-4839-ec49-1d8debd9cc72",
        "colab": {
          "base_uri": "https://localhost:8080/"
        }
      },
      "execution_count": 9,
      "outputs": [
        {
          "output_type": "stream",
          "name": "stdout",
          "text": [
            "Test Accuracy: 72.71%\n",
            "Train Accuracy: 90.96%\n",
            "Total train :  50000\n",
            "Total test : 10000\n"
          ]
        }
      ]
    },
    {
      "cell_type": "markdown",
      "source": [
        "So, for our basic model , we got a lot of overfitting , it does really well on the training set , but not onthe test set"
      ],
      "metadata": {
        "id": "gEO0aNZBU3Zm"
      }
    },
    {
      "cell_type": "markdown",
      "source": [
        "**Proposed improvements for improvement of accuracy  :**\n",
        "\n",
        "1.Introducing batch normalization to the simple network"
      ],
      "metadata": {
        "id": "Opfxwe9jWBy0"
      }
    },
    {
      "cell_type": "code",
      "source": [
        "class CNN_with_bn(nn.Module):\n",
        "    def __init__(self):\n",
        "        super(CNN_with_bn,self).__init__()\n",
        "        self.conv1 = nn.Conv2d(3, 64, kernel_size=3)\n",
        "        self.batchnorm1 = nn.BatchNorm2d(64)\n",
        "        self.pool = nn.MaxPool2d(2,2)\n",
        "        self.conv2 = nn.Conv2d(64, 128, kernel_size=4)\n",
        "        self.batchnorm2 = nn.BatchNorm2d(128)\n",
        "        self.conv3 = nn.Conv2d(128, 256, kernel_size=4)\n",
        "        self.batchnorm3 = nn.BatchNorm2d(256)\n",
        "        self.dense1 = nn.Linear(3 * 3* 256, 250)\n",
        "        self.batchnorm4 = nn.BatchNorm1d(250)\n",
        "        self.output = nn.Linear(250,10)\n",
        "\n",
        "    def forward(self, X):\n",
        "        X = self.pool(torch.relu(self.batchnorm1(self.conv1(X))))\n",
        "        X = self.pool(torch.relu(self.batchnorm2(self.conv2(X))))\n",
        "        X = torch.relu(self.batchnorm3(self.conv3(X)))\n",
        "        X = X.view(X.size(0),-1 )\n",
        "        X = torch.relu(self.batchnorm4(self.dense1(X)))\n",
        "        X = self.output(X)\n",
        "        return X\n",
        "\n",
        "model2 = CNN_with_bn().to(device)"
      ],
      "metadata": {
        "id": "CKB8BO7dUYZi"
      },
      "execution_count": 10,
      "outputs": []
    },
    {
      "cell_type": "code",
      "source": [
        "optimizer_bn = optim.SGD(\n",
        "    model2.parameters(),\n",
        "    lr=0.01,          # start here, adjust later\n",
        "    momentum=0.9,     # helps accelerate in relevant directions\n",
        "    weight_decay=1e-3 # L2 regularization\n",
        ")\n",
        "\n",
        "criterion_bn = nn.CrossEntropyLoss()"
      ],
      "metadata": {
        "id": "AXPBsta-bofC"
      },
      "execution_count": 11,
      "outputs": []
    },
    {
      "cell_type": "code",
      "source": [
        "for epoch in range(10):\n",
        "    model2.train()\n",
        "    running_loss = 0.0\n",
        "    correct = 0\n",
        "    total = 0\n",
        "\n",
        "    for images, labels in train_loader:\n",
        "        images = images.to(device)\n",
        "        labels = labels.to(device)\n",
        "        optimizer_bn.zero_grad()\n",
        "        outputs = model2(images)\n",
        "        loss = criterion_bn(outputs, labels)\n",
        "        loss.backward()\n",
        "        optimizer_bn.step()\n",
        "\n",
        "        running_loss += loss.item()\n",
        "        _, predicted = torch.max(outputs, 1)\n",
        "        total += labels.size(0)\n",
        "        correct += (predicted == labels).sum().item()\n",
        "\n",
        "    epoch_loss = running_loss / len(train_loader)\n",
        "    epoch_acc = 100 * correct / total\n",
        "    print(f\"Epoch {epoch+1}, Loss: {epoch_loss:.4f}, Acc: {epoch_acc:.2f}%\")\n",
        "\n"
      ],
      "metadata": {
        "id": "rTTe2II4bj1g",
        "outputId": "55bacc95-752f-41f7-ff60-5b7c749ed5d0",
        "colab": {
          "base_uri": "https://localhost:8080/"
        }
      },
      "execution_count": 12,
      "outputs": [
        {
          "output_type": "stream",
          "name": "stdout",
          "text": [
            "Epoch 1, Loss: 1.1717, Acc: 58.21%\n",
            "Epoch 2, Loss: 0.8147, Acc: 71.32%\n",
            "Epoch 3, Loss: 0.6700, Acc: 76.50%\n",
            "Epoch 4, Loss: 0.5658, Acc: 80.17%\n",
            "Epoch 5, Loss: 0.4798, Acc: 83.33%\n",
            "Epoch 6, Loss: 0.4085, Acc: 85.68%\n",
            "Epoch 7, Loss: 0.3429, Acc: 88.12%\n",
            "Epoch 8, Loss: 0.2935, Acc: 89.92%\n",
            "Epoch 9, Loss: 0.2593, Acc: 91.08%\n",
            "Epoch 10, Loss: 0.2262, Acc: 92.30%\n"
          ]
        }
      ]
    },
    {
      "cell_type": "code",
      "source": [
        "model2.eval() # evaluation mode , no changes to the model\n",
        "total = 0\n",
        "correct = 0\n",
        "wrong = 0\n",
        "correct2 = 0\n",
        "total2 = 0\n",
        "with torch.no_grad():\n",
        "    for images , labels in test_loader:\n",
        "        images = images.to(device)\n",
        "        labels = labels.to(device)\n",
        "        outputs = model2(images)\n",
        "        _, predicted = torch.max(outputs,1) # in axis 1 (columns), we look for the highest value in tensor, stores index of the max\n",
        "        total += labels.size(0)\n",
        "        correct += (labels == predicted).sum().item()\n",
        "    for images , labels in train_loader:\n",
        "        images = images.to(device)\n",
        "        labels = labels.to(device)\n",
        "        outputs = model2(images)\n",
        "        _, predicted = torch.max(outputs,1) # in axis 1 (columns), we look for the highest value in tensor, stores index of the max\n",
        "        total2 += labels.size(0)\n",
        "        correct2 += (labels == predicted).sum().item()\n",
        "\n",
        "print(f\"Test Accuracy: {100 * correct / total:.2f}%\")\n",
        "print(f\"Train Accuracy: {100 * correct2 / total2:.2f}%\")\n",
        "print(\"Total train : \",total2 )\n",
        "print(\"Total test :\", total)"
      ],
      "metadata": {
        "id": "vIgZK4LpcLgG",
        "outputId": "654855d9-7c61-4915-8681-e7f89c7a1626",
        "colab": {
          "base_uri": "https://localhost:8080/"
        }
      },
      "execution_count": 15,
      "outputs": [
        {
          "output_type": "stream",
          "name": "stdout",
          "text": [
            "Test Accuracy: 76.66%\n",
            "Train Accuracy: 95.03%\n",
            "Total train :  50000\n",
            "Total test : 10000\n"
          ]
        }
      ]
    },
    {
      "cell_type": "markdown",
      "source": [
        "No noticable changes"
      ],
      "metadata": {
        "id": "fmbg7iJndxDW"
      }
    },
    {
      "cell_type": "markdown",
      "source": [
        "Improvememts :\n",
        "\n",
        "1. Batch normalization(done)\n",
        "\n",
        "2. Data Augmentation\n"
      ],
      "metadata": {
        "id": "yTaR-MleeLqW"
      }
    },
    {
      "cell_type": "markdown",
      "source": [
        "**The Augmentations I shall be using (1 aug per epoch) :**\n",
        "\n",
        "1. gaussian noise\n",
        "2. random crop\n",
        "3. rotation on 3 angles\n",
        "4. gaussian transform\n",
        "5. grayscale\n",
        "6. color jitters\n",
        "\n",
        "If this does not noticably increase the performance , we will go for a inplace aug where all image takes all augs and is stored, instead of on the fly"
      ],
      "metadata": {
        "id": "HjxRAk1XTnWw"
      }
    },
    {
      "cell_type": "code",
      "source": [
        "\n",
        "\n",
        "# transform_train = transforms.Compose([\n",
        "#     # Proven spatial augs for CIFAR-10\n",
        "#     transforms.RandomCrop(32, padding=4),\n",
        "#     transforms.RandomHorizontalFlip(),\n",
        "\n",
        "#     # One additional augmentation picked per sample (PIL domain)\n",
        "#     transforms.RandomChoice([\n",
        "#         transforms.Grayscale(3),\n",
        "#         transforms.RandomRotation(15),\n",
        "#         transforms.RandomRotation(30),# milder than 65/85\n",
        "#         transforms.ColorJitter(brightness=0.08, contrast=0.08, saturation=0.08, hue=0.01),\n",
        "#         #transforms.RandomInvert(),\n",
        "#         transforms.GaussianBlur(kernel_size=3, sigma=(0.1, 1.5)),  # smaller kernel for 32x32\n",
        "#     ]),\n",
        "\n",
        "#     transforms.ToTensor(),  # convert once\n",
        "\n",
        "#     # Use CIFAR-10 mean/std\n",
        "#     transforms.Normalize((0.4914, 0.4822, 0.4465),\n",
        "#                          (0.2470, 0.2435, 0.2616)),\n",
        "# ])\n",
        "\n",
        "\n",
        "\n",
        "\n",
        "'''\n",
        "transform_train = transforms.Compose([\n",
        "    transforms.RandomCrop(32, padding=4),\n",
        "    transforms.RandomHorizontalFlip(),\n",
        "    transforms.RandomApply([\n",
        "        transforms.ColorJitter(0.2, 0.2, 0.2, 0.05)\n",
        "    ], p=0.5),\n",
        "    transforms.RandomGrayscale(p=0.1),\n",
        "    transforms.ToTensor(),\n",
        "    transforms.Normalize((0.4914, 0.4822, 0.4465),\n",
        "                         (0.2470, 0.2435, 0.2616)),\n",
        "])\n",
        "'''\n",
        "\n",
        "IMAGE_SIZE = 32\n",
        "\n",
        "mean, std = [0.4914, 0.4822, 0.4465], [0.247, 0.243, 0.261]\n",
        "# These values are mostly used by researchers as found to very useful in fast convergence\n",
        "\n",
        "\n",
        "# https://pytorch.org/vision/stable/transforms.html\n",
        "# We can try various transformation for good generalization of model\n",
        "composed_train = transforms.Compose([transforms.Resize((IMAGE_SIZE, IMAGE_SIZE)), # Resize the image in a 32X32 shape\n",
        "                                     transforms.RandomRotation(20), # Randomly rotate some images by 20 degrees\n",
        "                                     transforms.RandomHorizontalFlip(0.1), # Randomly horizontal flip the images\n",
        "                                     transforms.ColorJitter(brightness = 0.1, # Randomly adjust color jitter of the images\n",
        "                                                            contrast = 0.1,\n",
        "                                                            saturation = 0.1),\n",
        "                                     transforms.RandomAdjustSharpness(sharpness_factor = 2,\n",
        "                                                                      p = 0.1), # Randomly adjust sharpness\n",
        "                                     transforms.ToTensor(),   # Converting image to tensor\n",
        "                                     transforms.Normalize(mean, std), # Normalizing with standard mean and standard deviation\n",
        "                                     transforms.RandomErasing(p=0.75,scale=(0.02, 0.1),value=1.0, inplace=False)])\n",
        "\n",
        "\n",
        "transform_test = transforms.Compose([\n",
        "    transforms.ToTensor(),\n",
        "    transforms.Normalize((0.4914, 0.4822, 0.4465),\n",
        "                         (0.2470, 0.2435, 0.2616)),\n",
        "])\n",
        "\n",
        "train_dataset2 = torchvision.datasets.CIFAR10(root='./data', train=True, download=True, transform=composed_train)\n",
        "test_dataset2  = torchvision.datasets.CIFAR10(root='./data', train=False, download=True, transform=transform_test)\n",
        "\n",
        "train_loader2 = DataLoader(train_dataset2, batch_size=128, shuffle=True, num_workers=2, pin_memory=True)\n",
        "test_loader2  = DataLoader(test_dataset2,  batch_size=128, shuffle=False, num_workers=2, pin_memory=True)\n",
        "\n"
      ],
      "metadata": {
        "id": "twzUGiYpeBqY",
        "outputId": "da545c7a-b337-4b5b-b616-a2d56a73c648",
        "colab": {
          "base_uri": "https://localhost:8080/"
        }
      },
      "execution_count": 16,
      "outputs": [
        {
          "output_type": "stream",
          "name": "stderr",
          "text": [
            "100%|██████████| 170M/170M [00:16<00:00, 10.4MB/s]\n"
          ]
        }
      ]
    },
    {
      "cell_type": "markdown",
      "source": [
        "Transformation is not actually applied when downloading, rather, it is done everytime an image is loaded"
      ],
      "metadata": {
        "id": "gvMCnhhxY0c-"
      }
    },
    {
      "cell_type": "markdown",
      "source": [
        "Checking for augs :"
      ],
      "metadata": {
        "id": "c1kerIyFa7pT"
      }
    },
    {
      "cell_type": "code",
      "source": [
        "\n",
        "def imshow(img_tensor, mean=(0.4914, 0.4822, 0.4465), std=(0.2470, 0.2435, 0.2616)):\n",
        "    img = img_tensor.clone().cpu()\n",
        "    for c, (m, s) in enumerate(zip(mean, std)):\n",
        "        img[c] = img[c] * s + m  # unnormalize\n",
        "    img = np.clip(img.numpy().transpose((1, 2, 0)), 0, 1)\n",
        "    plt.imshow(img)\n",
        "    plt.axis('off')\n",
        "\n",
        "# Show the same dataset item multiple times\n",
        "fig, axes = plt.subplots(1, 4, figsize=(10, 3))\n",
        "for i in range(4):\n",
        "    img, _ = train_dataset2[0]  # same index each time\n",
        "    plt.sca(axes[i])\n",
        "    imshow(img)\n",
        "    axes[i].set_title(f\"Aug #{i+1}\")\n",
        "plt.show()"
      ],
      "metadata": {
        "id": "TgsG1sWBXJzy",
        "outputId": "0c26f72c-ced7-4e7a-9cfb-1374ccbc5b35",
        "colab": {
          "base_uri": "https://localhost:8080/",
          "height": 227
        }
      },
      "execution_count": 17,
      "outputs": [
        {
          "output_type": "display_data",
          "data": {
            "text/plain": [
              "<Figure size 1000x300 with 4 Axes>"
            ],
            "image/png": "[encoded data removed]"
          },
          "metadata": {}
        }
      ]
    },
    {
      "cell_type": "code",
      "source": [
        "model3 = CNN_with_bn().to(device)\n",
        "optimizer_3 =optim.SGD(\n",
        "    model3.parameters(),\n",
        "    lr=0.01,          # start here, adjust later\n",
        "    momentum=0.4,     # helps accelerate in relevant directions\n",
        "    weight_decay=5e-4 # L2 regularization\n",
        ")\n",
        "\n",
        "criterion_3 = nn.CrossEntropyLoss()"
      ],
      "metadata": {
        "id": "q0uHj_PqbptV"
      },
      "execution_count": 24,
      "outputs": []
    },
    {
      "cell_type": "code",
      "source": [
        "for epoch in range(30):\n",
        "    model3.train()\n",
        "    running_loss = 0.0\n",
        "    correct = 0\n",
        "    total = 0\n",
        "\n",
        "    for images, labels in train_loader2:\n",
        "        images = images.to(device)\n",
        "        labels = labels.to(device)\n",
        "        optimizer_3.zero_grad()\n",
        "        outputs = model3(images)\n",
        "        loss = criterion_3(outputs, labels)\n",
        "        loss.backward()\n",
        "        optimizer_3.step()\n",
        "\n",
        "        running_loss += loss.item()\n",
        "        _, predicted = torch.max(outputs, 1)\n",
        "        total += labels.size(0)\n",
        "        correct += (predicted == labels).sum().item()\n",
        "\n",
        "    epoch_loss = running_loss / len(train_loader2)\n",
        "    epoch_acc = 100 * correct / total\n",
        "    print(f\"Epoch {epoch+1}, Loss: {epoch_loss:.4f}, Acc: {epoch_acc:.2f}%\")"
      ],
      "metadata": {
        "id": "mKpj8Ewqa9yx",
        "outputId": "80e3d179-c370-4c94-c364-21baa936df90",
        "colab": {
          "base_uri": "https://localhost:8080/"
        }
      },
      "execution_count": 25,
      "outputs": [
        {
          "output_type": "stream",
          "name": "stdout",
          "text": [
            "Epoch 5, Loss: 0.9032, Acc: 68.16%\n",
            "Epoch 6, Loss: 0.8556, Acc: 69.74%\n",
            "Epoch 7, Loss: 0.8121, Acc: 71.53%\n",
            "Epoch 8, Loss: 0.7746, Acc: 72.84%\n",
            "Epoch 9, Loss: 0.7443, Acc: 74.00%\n",
            "Epoch 10, Loss: 0.7170, Acc: 74.93%\n",
            "Epoch 11, Loss: 0.6882, Acc: 75.83%\n",
            "Epoch 12, Loss: 0.6670, Acc: 76.74%\n",
            "Epoch 13, Loss: 0.6431, Acc: 77.39%\n",
            "Epoch 14, Loss: 0.6228, Acc: 78.22%\n",
            "Epoch 15, Loss: 0.6079, Acc: 78.64%\n",
            "Epoch 16, Loss: 0.5922, Acc: 79.27%\n",
            "Epoch 17, Loss: 0.5754, Acc: 79.97%\n",
            "Epoch 18, Loss: 0.5638, Acc: 80.30%\n",
            "Epoch 19, Loss: 0.5412, Acc: 81.26%\n",
            "Epoch 20, Loss: 0.5317, Acc: 81.49%\n",
            "Epoch 21, Loss: 0.5183, Acc: 82.19%\n",
            "Epoch 22, Loss: 0.5093, Acc: 82.26%\n",
            "Epoch 23, Loss: 0.4950, Acc: 82.86%\n",
            "Epoch 24, Loss: 0.4824, Acc: 83.17%\n",
            "Epoch 25, Loss: 0.4666, Acc: 83.88%\n",
            "Epoch 26, Loss: 0.4608, Acc: 83.97%\n",
            "Epoch 27, Loss: 0.4461, Acc: 84.58%\n",
            "Epoch 28, Loss: 0.4428, Acc: 84.70%\n",
            "Epoch 29, Loss: 0.4319, Acc: 85.22%\n",
            "Epoch 30, Loss: 0.4238, Acc: 85.32%\n"
          ]
        }
      ]
    },
    {
      "cell_type": "code",
      "source": [
        "model3.eval() # evaluation mode , no changes to the model\n",
        "total = 0\n",
        "correct = 0\n",
        "wrong = 0\n",
        "correct2 = 0\n",
        "total2 = 0\n",
        "with torch.no_grad():\n",
        "    for images , labels in test_loader2:\n",
        "        images = images.to(device)\n",
        "        labels = labels.to(device)\n",
        "        outputs = model3(images)\n",
        "        _, predicted = torch.max(outputs,1) # in axis 1 (columns), we look for the highest value in tensor, stores index of the max\n",
        "        total += labels.size(0)\n",
        "        correct += (labels == predicted).sum().item()\n",
        "    for images , labels in train_loader2:\n",
        "        images = images.to(device)\n",
        "        labels = labels.to(device)\n",
        "        outputs = model3(images)\n",
        "        _, predicted = torch.max(outputs,1) # in axis 1 (columns), we look for the highest value in tensor, stores index of the max\n",
        "        total2 += labels.size(0)\n",
        "        correct2 += (labels == predicted).sum().item()\n",
        "\n",
        "print(f\"Test Accuracy: {100 * correct / total:.2f}%\")\n",
        "print(f\"Train Accuracy: {100 * correct2 / total2:.2f}%\")\n",
        "print(\"Total train : \",total2 )\n",
        "print(\"Total test :\", total)"
      ],
      "metadata": {
        "id": "zcuVbVxRljKM",
        "outputId": "e1f0fccd-4256-4ceb-a055-eac9303c36d8",
        "colab": {
          "base_uri": "https://localhost:8080/"
        }
      },
      "execution_count": 26,
      "outputs": [
        {
          "output_type": "stream",
          "name": "stdout",
          "text": [
            "Test Accuracy: 80.47%\n",
            "Train Accuracy: 86.10%\n",
            "Total train :  50000\n",
            "Total test : 10000\n"
          ]
        }
      ]
    },
    {
      "cell_type": "markdown",
      "source": [
        "For addition of augmentation, we see dramatic lack of variance and very little overfitting . for the purposes of storing, the first transform model gave an accuracy of 82% on test and 83% on train"
      ],
      "metadata": {
        "id": "72qhOiI1mSME"
      }
    },
    {
      "cell_type": "markdown",
      "source": [
        "Let's try using a learning rate scheduler :"
      ],
      "metadata": {
        "id": "faBGkl98v9m9"
      }
    },
    {
      "cell_type": "code",
      "source": [],
      "metadata": {
        "id": "ZafBElkRl3FC"
      },
      "execution_count": null,
      "outputs": []
    }
  ]
}